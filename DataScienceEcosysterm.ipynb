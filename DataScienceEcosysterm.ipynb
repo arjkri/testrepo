{
 "cells": [
  {
   "cell_type": "markdown",
   "id": "87229587-5008-4225-ac4e-9f73622b693e",
   "metadata": {},
   "source": [
    "# Data Science Tools and Ecosysterm"
   ]
  },
  {
   "cell_type": "markdown",
   "id": "d3d2a50f-99c2-479b-8a2e-cc1db5c92a38",
   "metadata": {},
   "source": [
    "In this notebook, Data Science Tools and Ecosysterm are summarized"
   ]
  },
  {
   "cell_type": "markdown",
   "id": "59bc2d09-a0e2-4e30-b2f1-3ae94c0d19cf",
   "metadata": {},
   "source": [
    "Some of the popular languages that Data Scientists use are:\n",
    "1. python\n",
    "2. R\n",
    "3. Julia\n",
    "4. SQL"
   ]
  },
  {
   "cell_type": "markdown",
   "id": "bfcc4384-967d-4b6c-8347-69fa1a1dfba5",
   "metadata": {},
   "source": [
    "Some of the commonly used libraries used by Data Scientists include:\n",
    "1. NumPY\n",
    "2. Matplotlib\n",
    "3. scikit-learn"
   ]
  },
  {
   "cell_type": "markdown",
   "id": "2e75b233-f5a4-4d91-81a3-5c5136fee579",
   "metadata": {},
   "source": [
    "|Data Science Tools|\n",
    "|------------------|\n",
    "|Jupyter Notebook|\n",
    "|RStudio|\n",
    "|VScode|"
   ]
  },
  {
   "cell_type": "markdown",
   "id": "9db5283f-2d48-48fe-bb09-76a1486a442f",
   "metadata": {},
   "source": [
    "### Below are a few example of evaluating arithmetic expression in Python"
   ]
  },
  {
   "cell_type": "code",
   "execution_count": 3,
   "id": "c6ffe173-3e64-4fd6-b80b-5df27b5d4266",
   "metadata": {},
   "outputs": [
    {
     "data": {
      "text/plain": [
       "17"
      ]
     },
     "execution_count": 3,
     "metadata": {},
     "output_type": "execute_result"
    }
   ],
   "source": [
    "# This a simple arithmetic expression to multiply then add integer.\n",
    "(3*4)+5"
   ]
  },
  {
   "cell_type": "code",
   "execution_count": 4,
   "id": "d4ea1466-a893-4f93-8da7-ffbf4b1e3ecf",
   "metadata": {},
   "outputs": [
    {
     "data": {
      "text/plain": [
       "3.3333333333333335"
      ]
     },
     "execution_count": 4,
     "metadata": {},
     "output_type": "execute_result"
    }
   ],
   "source": [
    "# This will convert 200 minutes to hours by diving by 60.\n",
    "200/60"
   ]
  },
  {
   "cell_type": "markdown",
   "id": "9cfe9bb8-f191-4517-b1bc-c55a9c48ba72",
   "metadata": {},
   "source": [
    "**Objectives:**\n",
    "- list of popular languages for the data science\n",
    "- basic arithmetic operation\n",
    "- popupar data science libries used by the datascientists\n",
    "- data science tools "
   ]
  },
  {
   "cell_type": "markdown",
   "id": "f3cf16d2-56e7-45db-afb8-a1f0c8490349",
   "metadata": {},
   "source": [
    "## Author \n",
    "Arjun Gupta"
   ]
  },
  {
   "cell_type": "code",
   "execution_count": null,
   "id": "330ffa1d-74df-4cf3-ba07-da3c0e1ca7ff",
   "metadata": {},
   "outputs": [],
   "source": []
  }
 ],
 "metadata": {
  "kernelspec": {
   "display_name": "Python 3 (ipykernel)",
   "language": "python",
   "name": "python3"
  },
  "language_info": {
   "codemirror_mode": {
    "name": "ipython",
    "version": 3
   },
   "file_extension": ".py",
   "mimetype": "text/x-python",
   "name": "python",
   "nbconvert_exporter": "python",
   "pygments_lexer": "ipython3",
   "version": "3.11.9"
  }
 },
 "nbformat": 4,
 "nbformat_minor": 5
}
